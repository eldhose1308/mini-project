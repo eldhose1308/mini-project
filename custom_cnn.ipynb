{
 "cells": [
  {
   "cell_type": "code",
   "execution_count": null,
   "metadata": {},
   "outputs": [],
   "source": []
  }
 ],
 "metadata": {
  "kernelspec": {
   "display_name": "Python 3.10.5 64-bit",
   "language": "python",
   "name": "python3"
  },
  "language_info": {
   "name": "python",
   "version": "3.10.5"
  },
  "orig_nbformat": 4,
  "vscode": {
   "interpreter": {
    "hash": "8d5ca64f438ef14954d30041b7e049e5b3925e9d2d65fae97d1d8da02e9969f9"
   }
  }
 },
 "nbformat": 4,
 "nbformat_minor": 2
}
